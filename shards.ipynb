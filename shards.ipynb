{
  "cells": [
    {
      "cell_type": "markdown",
      "metadata": {},
      "source": [
        "# Interactive SEQ Explorer for TSTOEAO\n",
        "\n",
        "Tweak Ω_m and see EQ invariance live. Eternal substrate in action."
      ]
    },
    {
      "cell_type": "code",
      "execution_count": null,
      "metadata": {},
      "outputs": [],
      "source": [
        "import numpy as np\n",
        "import matplotlib.pyplot as plt\n",
        "from scipy.integrate import cumtrapz, trapz\n",
        "from scipy.interpolate import interp1d\n",
        "from ipywidgets import interact, FloatSlider\n",
        "\n",
        "def get_a_t(omega_m=0.3, H0=70, t_max=14.0, n=200):\n",
        "    omega_l = 1 - omega_m\n",
        "    a_arr = np.logspace(-4, 0, n)\n",
        "    def integrand(a): return 1 / (a * np.sqrt(omega_m / a**3 + omega_l))\n",
        "    dt_da = cumtrapz(integrand(a_arr), a_arr, initial=0)\n",
        "    t_arr = dt_da / H0 / dt_da[-1] * t_max\n",
        "    a_of_t = interp1d(t_arr, a_arr, bounds_error=False, fill_value='extrapolate')\n",
        "    t = np.logspace(-4, np.log10(t_max), n)  # Clamp min t\n",
        "    return t, a_of_t(t)\n",
        "\n",
        "def compute_eq(omega_m=0.3):\n",
        "    t, a_t = get_a_t(omega_m)\n",
        "    freq = 1 / t\n",
        "    phase = np.cumsum(freq) * a_t\n",
        "    chirp = np.sin(2 * np.pi * phase)\n",
        "    fft_c = np.fft.fft(chirp)\n",
        "    jitter = np.abs(np.fft.ifft(fft_c * np.conj(fft_c)))\n",
        "    drift = np.unwrap(np.angle(fft_c))\n",
        "    eq_raw = trapz(jitter / (np.abs(drift) + 1e-10), t)\n",
        "    return eq_raw * 0.792\n",
        "\n",
        "@interact(omega_m=FloatSlider(min=0.1, max=0.5, step=0.01, value=0.3))\n",
        "def plot_eq(omega_m):\n",
        "    eq = compute_eq(omega_m)\n",
        "    print(f'EQ for Ω_m={omega_m}: {eq:.4f}')\n",
        "\n",
        "    t, a_t = get_a_t(omega_m)\n",
        "    plt.figure()\n",
        "    plt.loglog(t, a_t, label=f'Ω_m={omega_m}')\n",
        "    plt.xlabel('Time (Gyr)')\n",
        "    plt.ylabel('a(t)')\n",
        "    plt.legend()\n",
        "    plt.title('Scale Factor: Invariant Response')\n",
        "    plt.show()"
      ]
    }
  ],
  "metadata": {
    "kernelspec": {
      "display_name": "Python 3",
      "language": "python",
      "name": "python3"
    },
    "language_info": {
      "codemirror_mode": {
        "name": "ipython",
        "version": 3
      },
      "file_extension": ".py",
      "mimetype": "text/x-python",
      "name": "python",
      "nbconvert_exporter": "python",
      "pygments_lexer": "ipython3",
      "version": "3.12.3"
    }
  },
  "nbformat": 4,
  "nbformat_minor": 5
}
